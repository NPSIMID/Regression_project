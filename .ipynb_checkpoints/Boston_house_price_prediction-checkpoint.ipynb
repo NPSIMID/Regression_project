{
 "cells": [
  {
   "cell_type": "markdown",
   "id": "83b23314",
   "metadata": {},
   "source": [
    "# Content:\n",
    "## 0. Importul bibliotecilor\n",
    "## 1. Importul setului de date built-in Scikit-Learn\n",
    "## 2. Divizarea datelor in subseturi\n",
    "## 3. Selectarea algoritmului corespunzator problemei\n",
    "## 4. Realizarea predictiei utilizand modelul elaborat"
   ]
  },
  {
   "cell_type": "markdown",
   "id": "bd685a33",
   "metadata": {},
   "source": [
    "# 0. Importul bibliotecilor"
   ]
  },
  {
   "cell_type": "code",
   "execution_count": 1,
   "id": "49c55999",
   "metadata": {},
   "outputs": [],
   "source": [
    "import pandas as pd\n",
    "import numpy as np\n",
    "import matplotlib.pyplot as plt\n",
    "import seaborn as sns\n",
    "%matplotlib inline"
   ]
  },
  {
   "cell_type": "markdown",
   "id": "cd4990d0",
   "metadata": {},
   "source": [
    "# 1. Importul setului de date built-in Scikit-Learn"
   ]
  },
  {
   "cell_type": "markdown",
   "id": "57cdb2c0",
   "metadata": {},
   "source": [
    "Mai multe despre setul de date Boston House Prices se poate gasi la adresa: https://scikit-learn.org/stable/datasets/toy_dataset.html#boston-dataset\n",
    "    "
   ]
  },
  {
   "cell_type": "code",
   "execution_count": 2,
   "id": "34b7960c",
   "metadata": {},
   "outputs": [
    {
     "data": {
      "text/plain": [
       "{'data': array([[6.3200e-03, 1.8000e+01, 2.3100e+00, ..., 1.5300e+01, 3.9690e+02,\n",
       "         4.9800e+00],\n",
       "        [2.7310e-02, 0.0000e+00, 7.0700e+00, ..., 1.7800e+01, 3.9690e+02,\n",
       "         9.1400e+00],\n",
       "        [2.7290e-02, 0.0000e+00, 7.0700e+00, ..., 1.7800e+01, 3.9283e+02,\n",
       "         4.0300e+00],\n",
       "        ...,\n",
       "        [6.0760e-02, 0.0000e+00, 1.1930e+01, ..., 2.1000e+01, 3.9690e+02,\n",
       "         5.6400e+00],\n",
       "        [1.0959e-01, 0.0000e+00, 1.1930e+01, ..., 2.1000e+01, 3.9345e+02,\n",
       "         6.4800e+00],\n",
       "        [4.7410e-02, 0.0000e+00, 1.1930e+01, ..., 2.1000e+01, 3.9690e+02,\n",
       "         7.8800e+00]]),\n",
       " 'target': array([24. , 21.6, 34.7, 33.4, 36.2, 28.7, 22.9, 27.1, 16.5, 18.9, 15. ,\n",
       "        18.9, 21.7, 20.4, 18.2, 19.9, 23.1, 17.5, 20.2, 18.2, 13.6, 19.6,\n",
       "        15.2, 14.5, 15.6, 13.9, 16.6, 14.8, 18.4, 21. , 12.7, 14.5, 13.2,\n",
       "        13.1, 13.5, 18.9, 20. , 21. , 24.7, 30.8, 34.9, 26.6, 25.3, 24.7,\n",
       "        21.2, 19.3, 20. , 16.6, 14.4, 19.4, 19.7, 20.5, 25. , 23.4, 18.9,\n",
       "        35.4, 24.7, 31.6, 23.3, 19.6, 18.7, 16. , 22.2, 25. , 33. , 23.5,\n",
       "        19.4, 22. , 17.4, 20.9, 24.2, 21.7, 22.8, 23.4, 24.1, 21.4, 20. ,\n",
       "        20.8, 21.2, 20.3, 28. , 23.9, 24.8, 22.9, 23.9, 26.6, 22.5, 22.2,\n",
       "        23.6, 28.7, 22.6, 22. , 22.9, 25. , 20.6, 28.4, 21.4, 38.7, 43.8,\n",
       "        33.2, 27.5, 26.5, 18.6, 19.3, 20.1, 19.5, 19.5, 20.4, 19.8, 19.4,\n",
       "        21.7, 22.8, 18.8, 18.7, 18.5, 18.3, 21.2, 19.2, 20.4, 19.3, 22. ,\n",
       "        20.3, 20.5, 17.3, 18.8, 21.4, 15.7, 16.2, 18. , 14.3, 19.2, 19.6,\n",
       "        23. , 18.4, 15.6, 18.1, 17.4, 17.1, 13.3, 17.8, 14. , 14.4, 13.4,\n",
       "        15.6, 11.8, 13.8, 15.6, 14.6, 17.8, 15.4, 21.5, 19.6, 15.3, 19.4,\n",
       "        17. , 15.6, 13.1, 41.3, 24.3, 23.3, 27. , 50. , 50. , 50. , 22.7,\n",
       "        25. , 50. , 23.8, 23.8, 22.3, 17.4, 19.1, 23.1, 23.6, 22.6, 29.4,\n",
       "        23.2, 24.6, 29.9, 37.2, 39.8, 36.2, 37.9, 32.5, 26.4, 29.6, 50. ,\n",
       "        32. , 29.8, 34.9, 37. , 30.5, 36.4, 31.1, 29.1, 50. , 33.3, 30.3,\n",
       "        34.6, 34.9, 32.9, 24.1, 42.3, 48.5, 50. , 22.6, 24.4, 22.5, 24.4,\n",
       "        20. , 21.7, 19.3, 22.4, 28.1, 23.7, 25. , 23.3, 28.7, 21.5, 23. ,\n",
       "        26.7, 21.7, 27.5, 30.1, 44.8, 50. , 37.6, 31.6, 46.7, 31.5, 24.3,\n",
       "        31.7, 41.7, 48.3, 29. , 24. , 25.1, 31.5, 23.7, 23.3, 22. , 20.1,\n",
       "        22.2, 23.7, 17.6, 18.5, 24.3, 20.5, 24.5, 26.2, 24.4, 24.8, 29.6,\n",
       "        42.8, 21.9, 20.9, 44. , 50. , 36. , 30.1, 33.8, 43.1, 48.8, 31. ,\n",
       "        36.5, 22.8, 30.7, 50. , 43.5, 20.7, 21.1, 25.2, 24.4, 35.2, 32.4,\n",
       "        32. , 33.2, 33.1, 29.1, 35.1, 45.4, 35.4, 46. , 50. , 32.2, 22. ,\n",
       "        20.1, 23.2, 22.3, 24.8, 28.5, 37.3, 27.9, 23.9, 21.7, 28.6, 27.1,\n",
       "        20.3, 22.5, 29. , 24.8, 22. , 26.4, 33.1, 36.1, 28.4, 33.4, 28.2,\n",
       "        22.8, 20.3, 16.1, 22.1, 19.4, 21.6, 23.8, 16.2, 17.8, 19.8, 23.1,\n",
       "        21. , 23.8, 23.1, 20.4, 18.5, 25. , 24.6, 23. , 22.2, 19.3, 22.6,\n",
       "        19.8, 17.1, 19.4, 22.2, 20.7, 21.1, 19.5, 18.5, 20.6, 19. , 18.7,\n",
       "        32.7, 16.5, 23.9, 31.2, 17.5, 17.2, 23.1, 24.5, 26.6, 22.9, 24.1,\n",
       "        18.6, 30.1, 18.2, 20.6, 17.8, 21.7, 22.7, 22.6, 25. , 19.9, 20.8,\n",
       "        16.8, 21.9, 27.5, 21.9, 23.1, 50. , 50. , 50. , 50. , 50. , 13.8,\n",
       "        13.8, 15. , 13.9, 13.3, 13.1, 10.2, 10.4, 10.9, 11.3, 12.3,  8.8,\n",
       "         7.2, 10.5,  7.4, 10.2, 11.5, 15.1, 23.2,  9.7, 13.8, 12.7, 13.1,\n",
       "        12.5,  8.5,  5. ,  6.3,  5.6,  7.2, 12.1,  8.3,  8.5,  5. , 11.9,\n",
       "        27.9, 17.2, 27.5, 15. , 17.2, 17.9, 16.3,  7. ,  7.2,  7.5, 10.4,\n",
       "         8.8,  8.4, 16.7, 14.2, 20.8, 13.4, 11.7,  8.3, 10.2, 10.9, 11. ,\n",
       "         9.5, 14.5, 14.1, 16.1, 14.3, 11.7, 13.4,  9.6,  8.7,  8.4, 12.8,\n",
       "        10.5, 17.1, 18.4, 15.4, 10.8, 11.8, 14.9, 12.6, 14.1, 13. , 13.4,\n",
       "        15.2, 16.1, 17.8, 14.9, 14.1, 12.7, 13.5, 14.9, 20. , 16.4, 17.7,\n",
       "        19.5, 20.2, 21.4, 19.9, 19. , 19.1, 19.1, 20.1, 19.9, 19.6, 23.2,\n",
       "        29.8, 13.8, 13.3, 16.7, 12. , 14.6, 21.4, 23. , 23.7, 25. , 21.8,\n",
       "        20.6, 21.2, 19.1, 20.6, 15.2,  7. ,  8.1, 13.6, 20.1, 21.8, 24.5,\n",
       "        23.1, 19.7, 18.3, 21.2, 17.5, 16.8, 22.4, 20.6, 23.9, 22. , 11.9]),\n",
       " 'feature_names': array(['CRIM', 'ZN', 'INDUS', 'CHAS', 'NOX', 'RM', 'AGE', 'DIS', 'RAD',\n",
       "        'TAX', 'PTRATIO', 'B', 'LSTAT'], dtype='<U7'),\n",
       " 'DESCR': \".. _boston_dataset:\\n\\nBoston house prices dataset\\n---------------------------\\n\\n**Data Set Characteristics:**  \\n\\n    :Number of Instances: 506 \\n\\n    :Number of Attributes: 13 numeric/categorical predictive. Median Value (attribute 14) is usually the target.\\n\\n    :Attribute Information (in order):\\n        - CRIM     per capita crime rate by town\\n        - ZN       proportion of residential land zoned for lots over 25,000 sq.ft.\\n        - INDUS    proportion of non-retail business acres per town\\n        - CHAS     Charles River dummy variable (= 1 if tract bounds river; 0 otherwise)\\n        - NOX      nitric oxides concentration (parts per 10 million)\\n        - RM       average number of rooms per dwelling\\n        - AGE      proportion of owner-occupied units built prior to 1940\\n        - DIS      weighted distances to five Boston employment centres\\n        - RAD      index of accessibility to radial highways\\n        - TAX      full-value property-tax rate per $10,000\\n        - PTRATIO  pupil-teacher ratio by town\\n        - B        1000(Bk - 0.63)^2 where Bk is the proportion of blacks by town\\n        - LSTAT    % lower status of the population\\n        - MEDV     Median value of owner-occupied homes in $1000's\\n\\n    :Missing Attribute Values: None\\n\\n    :Creator: Harrison, D. and Rubinfeld, D.L.\\n\\nThis is a copy of UCI ML housing dataset.\\nhttps://archive.ics.uci.edu/ml/machine-learning-databases/housing/\\n\\n\\nThis dataset was taken from the StatLib library which is maintained at Carnegie Mellon University.\\n\\nThe Boston house-price data of Harrison, D. and Rubinfeld, D.L. 'Hedonic\\nprices and the demand for clean air', J. Environ. Economics & Management,\\nvol.5, 81-102, 1978.   Used in Belsley, Kuh & Welsch, 'Regression diagnostics\\n...', Wiley, 1980.   N.B. Various transformations are used in the table on\\npages 244-261 of the latter.\\n\\nThe Boston house-price data has been used in many machine learning papers that address regression\\nproblems.   \\n     \\n.. topic:: References\\n\\n   - Belsley, Kuh & Welsch, 'Regression diagnostics: Identifying Influential Data and Sources of Collinearity', Wiley, 1980. 244-261.\\n   - Quinlan,R. (1993). Combining Instance-Based and Model-Based Learning. In Proceedings on the Tenth International Conference of Machine Learning, 236-243, University of Massachusetts, Amherst. Morgan Kaufmann.\\n\",\n",
       " 'filename': 'E:\\\\Machine_learning\\\\Machine_learning_projects\\\\Regression_project\\\\env\\\\lib\\\\site-packages\\\\sklearn\\\\datasets\\\\data\\\\boston_house_prices.csv'}"
      ]
     },
     "execution_count": 2,
     "metadata": {},
     "output_type": "execute_result"
    }
   ],
   "source": [
    "# importul setului de date in formatul unui dictionat\n",
    "from sklearn.datasets import load_boston\n",
    "boston = load_boston()\n",
    "boston"
   ]
  },
  {
   "cell_type": "code",
   "execution_count": 3,
   "id": "27ba12b6",
   "metadata": {},
   "outputs": [
    {
     "data": {
      "text/html": [
       "<div>\n",
       "<style scoped>\n",
       "    .dataframe tbody tr th:only-of-type {\n",
       "        vertical-align: middle;\n",
       "    }\n",
       "\n",
       "    .dataframe tbody tr th {\n",
       "        vertical-align: top;\n",
       "    }\n",
       "\n",
       "    .dataframe thead th {\n",
       "        text-align: right;\n",
       "    }\n",
       "</style>\n",
       "<table border=\"1\" class=\"dataframe\">\n",
       "  <thead>\n",
       "    <tr style=\"text-align: right;\">\n",
       "      <th></th>\n",
       "      <th>CRIM</th>\n",
       "      <th>ZN</th>\n",
       "      <th>INDUS</th>\n",
       "      <th>CHAS</th>\n",
       "      <th>NOX</th>\n",
       "      <th>RM</th>\n",
       "      <th>AGE</th>\n",
       "      <th>DIS</th>\n",
       "      <th>RAD</th>\n",
       "      <th>TAX</th>\n",
       "      <th>PTRATIO</th>\n",
       "      <th>B</th>\n",
       "      <th>LSTAT</th>\n",
       "      <th>target</th>\n",
       "    </tr>\n",
       "  </thead>\n",
       "  <tbody>\n",
       "    <tr>\n",
       "      <th>0</th>\n",
       "      <td>0.00632</td>\n",
       "      <td>18.0</td>\n",
       "      <td>2.31</td>\n",
       "      <td>0.0</td>\n",
       "      <td>0.538</td>\n",
       "      <td>6.575</td>\n",
       "      <td>65.2</td>\n",
       "      <td>4.0900</td>\n",
       "      <td>1.0</td>\n",
       "      <td>296.0</td>\n",
       "      <td>15.3</td>\n",
       "      <td>396.90</td>\n",
       "      <td>4.98</td>\n",
       "      <td>24.0</td>\n",
       "    </tr>\n",
       "    <tr>\n",
       "      <th>1</th>\n",
       "      <td>0.02731</td>\n",
       "      <td>0.0</td>\n",
       "      <td>7.07</td>\n",
       "      <td>0.0</td>\n",
       "      <td>0.469</td>\n",
       "      <td>6.421</td>\n",
       "      <td>78.9</td>\n",
       "      <td>4.9671</td>\n",
       "      <td>2.0</td>\n",
       "      <td>242.0</td>\n",
       "      <td>17.8</td>\n",
       "      <td>396.90</td>\n",
       "      <td>9.14</td>\n",
       "      <td>21.6</td>\n",
       "    </tr>\n",
       "    <tr>\n",
       "      <th>2</th>\n",
       "      <td>0.02729</td>\n",
       "      <td>0.0</td>\n",
       "      <td>7.07</td>\n",
       "      <td>0.0</td>\n",
       "      <td>0.469</td>\n",
       "      <td>7.185</td>\n",
       "      <td>61.1</td>\n",
       "      <td>4.9671</td>\n",
       "      <td>2.0</td>\n",
       "      <td>242.0</td>\n",
       "      <td>17.8</td>\n",
       "      <td>392.83</td>\n",
       "      <td>4.03</td>\n",
       "      <td>34.7</td>\n",
       "    </tr>\n",
       "    <tr>\n",
       "      <th>3</th>\n",
       "      <td>0.03237</td>\n",
       "      <td>0.0</td>\n",
       "      <td>2.18</td>\n",
       "      <td>0.0</td>\n",
       "      <td>0.458</td>\n",
       "      <td>6.998</td>\n",
       "      <td>45.8</td>\n",
       "      <td>6.0622</td>\n",
       "      <td>3.0</td>\n",
       "      <td>222.0</td>\n",
       "      <td>18.7</td>\n",
       "      <td>394.63</td>\n",
       "      <td>2.94</td>\n",
       "      <td>33.4</td>\n",
       "    </tr>\n",
       "    <tr>\n",
       "      <th>4</th>\n",
       "      <td>0.06905</td>\n",
       "      <td>0.0</td>\n",
       "      <td>2.18</td>\n",
       "      <td>0.0</td>\n",
       "      <td>0.458</td>\n",
       "      <td>7.147</td>\n",
       "      <td>54.2</td>\n",
       "      <td>6.0622</td>\n",
       "      <td>3.0</td>\n",
       "      <td>222.0</td>\n",
       "      <td>18.7</td>\n",
       "      <td>396.90</td>\n",
       "      <td>5.33</td>\n",
       "      <td>36.2</td>\n",
       "    </tr>\n",
       "  </tbody>\n",
       "</table>\n",
       "</div>"
      ],
      "text/plain": [
       "      CRIM    ZN  INDUS  CHAS    NOX     RM   AGE     DIS  RAD    TAX  \\\n",
       "0  0.00632  18.0   2.31   0.0  0.538  6.575  65.2  4.0900  1.0  296.0   \n",
       "1  0.02731   0.0   7.07   0.0  0.469  6.421  78.9  4.9671  2.0  242.0   \n",
       "2  0.02729   0.0   7.07   0.0  0.469  7.185  61.1  4.9671  2.0  242.0   \n",
       "3  0.03237   0.0   2.18   0.0  0.458  6.998  45.8  6.0622  3.0  222.0   \n",
       "4  0.06905   0.0   2.18   0.0  0.458  7.147  54.2  6.0622  3.0  222.0   \n",
       "\n",
       "   PTRATIO       B  LSTAT  target  \n",
       "0     15.3  396.90   4.98    24.0  \n",
       "1     17.8  396.90   9.14    21.6  \n",
       "2     17.8  392.83   4.03    34.7  \n",
       "3     18.7  394.63   2.94    33.4  \n",
       "4     18.7  396.90   5.33    36.2  "
      ]
     },
     "execution_count": 3,
     "metadata": {},
     "output_type": "execute_result"
    }
   ],
   "source": [
    "# Conversia datelor importate in format pd.DataFrame\n",
    "boston_df = pd.DataFrame(boston[\"data\"], columns=boston[\"feature_names\"])\n",
    "boston_df[\"target\"] = pd.Series(boston[\"target\"])\n",
    "boston_df.head()"
   ]
  },
  {
   "cell_type": "code",
   "execution_count": 4,
   "id": "def06169",
   "metadata": {},
   "outputs": [
    {
     "data": {
      "text/plain": [
       "(506, 14)"
      ]
     },
     "execution_count": 4,
     "metadata": {},
     "output_type": "execute_result"
    }
   ],
   "source": [
    "# Vizualizarea dimensiunilor\n",
    "boston_df.shape"
   ]
  },
  {
   "cell_type": "code",
   "execution_count": 5,
   "id": "16a308ee",
   "metadata": {},
   "outputs": [
    {
     "data": {
      "text/plain": [
       "CRIM       0\n",
       "ZN         0\n",
       "INDUS      0\n",
       "CHAS       0\n",
       "NOX        0\n",
       "RM         0\n",
       "AGE        0\n",
       "DIS        0\n",
       "RAD        0\n",
       "TAX        0\n",
       "PTRATIO    0\n",
       "B          0\n",
       "LSTAT      0\n",
       "target     0\n",
       "dtype: int64"
      ]
     },
     "execution_count": 5,
     "metadata": {},
     "output_type": "execute_result"
    }
   ],
   "source": [
    "# Verificarea prezentei datelor lipsa\n",
    "boston_df.isna().sum()"
   ]
  },
  {
   "cell_type": "code",
   "execution_count": 6,
   "id": "2546a7de",
   "metadata": {},
   "outputs": [
    {
     "data": {
      "text/plain": [
       "CRIM       float64\n",
       "ZN         float64\n",
       "INDUS      float64\n",
       "CHAS       float64\n",
       "NOX        float64\n",
       "RM         float64\n",
       "AGE        float64\n",
       "DIS        float64\n",
       "RAD        float64\n",
       "TAX        float64\n",
       "PTRATIO    float64\n",
       "B          float64\n",
       "LSTAT      float64\n",
       "target     float64\n",
       "dtype: object"
      ]
     },
     "execution_count": 6,
     "metadata": {},
     "output_type": "execute_result"
    }
   ],
   "source": [
    "# Verificare tipurilor de date in fiecare coloana\n",
    "boston_df.dtypes"
   ]
  },
  {
   "cell_type": "markdown",
   "id": "e4c73934",
   "metadata": {},
   "source": [
    "# 2. Divizarea datelor in subseturi"
   ]
  },
  {
   "cell_type": "code",
   "execution_count": 7,
   "id": "12db9ada",
   "metadata": {},
   "outputs": [],
   "source": [
    "# Divizarea datelor (coloanelor) in date feature X (caracteristici) si \n",
    "# date labels y (rezultat)\n",
    "\n",
    "np.random.seed(9)\n",
    "\n",
    "X = boston_df.drop(\"target\", axis=1)\n",
    "y = boston_df[\"target\"]"
   ]
  },
  {
   "cell_type": "code",
   "execution_count": 8,
   "id": "ffd71db5",
   "metadata": {},
   "outputs": [],
   "source": [
    "# Divizarea datelor in setul de training si setul de test\n",
    "np.random.seed(9)\n",
    "from sklearn.model_selection import train_test_split\n",
    "X_train, X_test, y_train, y_test = train_test_split(X, y, test_size=0.2)"
   ]
  },
  {
   "cell_type": "code",
   "execution_count": 9,
   "id": "429394d6",
   "metadata": {},
   "outputs": [
    {
     "data": {
      "text/plain": [
       "((404, 13), (102, 13), (404,), (102,))"
      ]
     },
     "execution_count": 9,
     "metadata": {},
     "output_type": "execute_result"
    }
   ],
   "source": [
    "# Vizualizarea dimensiunilor seturilor\n",
    "X_train.shape, X_test.shape, y_train.shape, y_test.shape"
   ]
  },
  {
   "cell_type": "markdown",
   "id": "b0f123a9",
   "metadata": {},
   "source": [
    "# 3. Selectarea algoritmului corespunzator problemei"
   ]
  },
  {
   "cell_type": "markdown",
   "id": "97081ca4",
   "metadata": {},
   "source": [
    "Sarcina problemei este de a pretul unei case in boston deci problema face parte din categoria problemelor de regresie (regression) si prin urmare se va selecta un algoritm (estimator) de regresie"
   ]
  },
  {
   "cell_type": "markdown",
   "id": "3e3c8efa",
   "metadata": {},
   "source": [
    "Pentru selectarea algoritmului/estimator-ului corespunzator se va parcurge harta: https://scikit-learn.org/stable/tutorial/machine_learning_map/index.html"
   ]
  },
  {
   "cell_type": "markdown",
   "id": "8356d74e",
   "metadata": {},
   "source": [
    "Conform hartii scikit-learn primul algorit ce poate fi ales este RidgeRegression"
   ]
  },
  {
   "cell_type": "markdown",
   "id": "d58dc36a",
   "metadata": {},
   "source": [
    "### 3.1. Utilizarea algoritmului RidgeRegression"
   ]
  },
  {
   "cell_type": "code",
   "execution_count": 10,
   "id": "82cdba9d",
   "metadata": {},
   "outputs": [],
   "source": [
    "#Importul estimatorului RidgeRegression\n",
    "from sklearn.linear_model import Ridge"
   ]
  },
  {
   "cell_type": "code",
   "execution_count": 11,
   "id": "858c78c4",
   "metadata": {},
   "outputs": [
    {
     "data": {
      "text/plain": [
       "Ridge()"
      ]
     },
     "execution_count": 11,
     "metadata": {},
     "output_type": "execute_result"
    }
   ],
   "source": [
    "# Instantierea si implementarea modelului pe setul de training\n",
    "np.random.seed(9)\n",
    "model = Ridge()\n",
    "model.fit(X_train, y_train)"
   ]
  },
  {
   "cell_type": "code",
   "execution_count": 12,
   "id": "6aad0a17",
   "metadata": {},
   "outputs": [
    {
     "data": {
      "text/plain": [
       "0.7579160163535783"
      ]
     },
     "execution_count": 12,
     "metadata": {},
     "output_type": "execute_result"
    }
   ],
   "source": [
    "# Evaluarea modelului pe datele de test\n",
    "np.random.seed(9)\n",
    "model.score(X_test, y_test)"
   ]
  },
  {
   "cell_type": "markdown",
   "id": "505489cc",
   "metadata": {},
   "source": [
    "In cazul in care nu sunt satisfacatoare rezultatele modelului pe bat pe agoritmul RidgeRegression se poate selecta algoritmul RandomForestRegressor."
   ]
  },
  {
   "cell_type": "markdown",
   "id": "f859298b",
   "metadata": {},
   "source": [
    "### 3.2. Utilizarea algoritmului RandomForestRegressor"
   ]
  },
  {
   "cell_type": "markdown",
   "id": "6e1cd54f",
   "metadata": {},
   "source": [
    "Mai multe despre algorimul RandomForestRegressor se poate gasi pe adresa: https://towardsdatascience.com/an-implementation-and-explanation-of-the-random-forest-in-python-77bf308a9b76"
   ]
  },
  {
   "cell_type": "code",
   "execution_count": 13,
   "id": "6622eeef",
   "metadata": {},
   "outputs": [],
   "source": [
    "#Importul estimatorului RandomForestRegressor\n",
    "from sklearn.ensemble import RandomForestRegressor"
   ]
  },
  {
   "cell_type": "code",
   "execution_count": 14,
   "id": "22c7e5a9",
   "metadata": {},
   "outputs": [],
   "source": [
    "# Instantierea algoritmului RandomForestRegressor\n",
    "np.random.seed(9)\n",
    "rf = RandomForestRegressor()"
   ]
  },
  {
   "cell_type": "code",
   "execution_count": 15,
   "id": "6fef01c8",
   "metadata": {},
   "outputs": [
    {
     "data": {
      "text/plain": [
       "RandomForestRegressor()"
      ]
     },
     "execution_count": 15,
     "metadata": {},
     "output_type": "execute_result"
    }
   ],
   "source": [
    "#Implementarea algoritmului RandomForestRegressor pe datele de training\n",
    "np.random.seed(9)\n",
    "rf.fit(X_train, y_train)"
   ]
  },
  {
   "cell_type": "code",
   "execution_count": 16,
   "id": "ecaaf00c",
   "metadata": {},
   "outputs": [
    {
     "data": {
      "text/plain": [
       "0.8816601904845025"
      ]
     },
     "execution_count": 16,
     "metadata": {},
     "output_type": "execute_result"
    }
   ],
   "source": [
    "# Evaluarea modelului pe datele de test\n",
    "np.random.seed(9)\n",
    "rf.score(X_test, y_test)"
   ]
  },
  {
   "cell_type": "markdown",
   "id": "0316277a",
   "metadata": {},
   "source": [
    "# 4. Realizarea predictiei utilizand modelul elaborat"
   ]
  },
  {
   "cell_type": "code",
   "execution_count": 18,
   "id": "8363b13c",
   "metadata": {},
   "outputs": [
    {
     "data": {
      "text/plain": [
       "array([20.91 , 14.351, 30.802, 16.173, 19.963, 20.85 , 30.029, 34.081,\n",
       "       17.755, 16.787, 19.812, 27.592, 18.416, 39.328, 15.172, 34.388,\n",
       "       15.812, 20.847, 33.73 , 13.549, 23.749,  7.982, 22.419, 18.648,\n",
       "       34.431, 44.162, 23.527, 25.183, 17.885, 21.343, 11.819, 16.14 ,\n",
       "       20.57 , 18.891, 20.481, 14.524, 29.35 , 19.145, 11.746, 45.703,\n",
       "       17.531, 21.968, 12.528, 45.976, 42.864, 19.563, 26.231, 24.419,\n",
       "        7.403, 25.804, 27.985, 42.419, 15.38 , 24.942, 17.083, 14.162,\n",
       "       19.143, 10.005, 26.814, 18.762, 21.359, 27.531, 25.278, 12.579,\n",
       "       29.46 , 20.017, 19.884, 21.195, 15.256, 19.321, 44.571, 11.511,\n",
       "       29.129, 31.61 , 11.173, 22.194, 24.28 , 45.144, 18.158, 20.714,\n",
       "       14.697, 34.763, 21.384, 48.381, 18.718, 21.183, 22.67 , 21.394,\n",
       "       15.588, 12.625, 21.274, 14.704, 28.715, 20.884, 19.82 , 27.185,\n",
       "       22.765, 14.877, 20.651, 26.859, 34.374, 21.241])"
      ]
     },
     "execution_count": 18,
     "metadata": {},
     "output_type": "execute_result"
    }
   ],
   "source": [
    "# Pentru crearea predictie se utilizeaza metoda predict()\n",
    "np.random.seed(9)\n",
    "y_preds = rf.predict(X_test)\n",
    "y_preds"
   ]
  },
  {
   "cell_type": "code",
   "execution_count": 20,
   "id": "1ceb43e6",
   "metadata": {},
   "outputs": [
    {
     "data": {
      "text/plain": [
       "array([21.4,  8.4, 33.1, 13.6, 18.5, 23.8, 35.1, 36.2, 17.7, 15.6, 16.6,\n",
       "       23.7, 17.6, 50. , 13.3, 34.7, 16.1, 21.7, 35.4, 17.1, 23.1,  7.4,\n",
       "       21.9, 15.6, 23.9, 50. , 22.3, 15. , 19.4, 22.2,  9.5, 13.5, 19.7,\n",
       "       20.2, 21.5, 15.4, 31.5, 18.7, 12.8, 50. , 19.5, 20.4,  7.5, 45.4,\n",
       "       39.8, 18.8, 28. , 24.6, 10.5, 25.2, 31.1, 43.8, 13.4, 23.9, 13.2,\n",
       "       14.5, 18.5,  8.3, 27.9, 17.5, 22.2, 28.4, 27.5, 17.9, 31.6, 19.8,\n",
       "       17.8, 19.9, 17.2, 23.1, 50. , 13.8, 30.1, 26.6, 10.9, 23.9, 16.5,\n",
       "       46. , 19.5, 19.9, 13.8, 23.6, 22.4, 50. , 19.7, 22.6, 22.6, 14.1,\n",
       "       14.5,  8.5, 20.8, 14.9, 31.2, 11.9, 14.5, 30.8, 22.8, 13.5, 21.1,\n",
       "       23.3, 28.7, 23.3])"
      ]
     },
     "execution_count": 20,
     "metadata": {},
     "output_type": "execute_result"
    }
   ],
   "source": [
    "# Vizualizarea valorilor adevarate\n",
    "np.array(y_test)"
   ]
  },
  {
   "cell_type": "code",
   "execution_count": 21,
   "id": "6c72ae6e",
   "metadata": {},
   "outputs": [
    {
     "data": {
      "text/plain": [
       "2.4446764705882362"
      ]
     },
     "execution_count": 21,
     "metadata": {},
     "output_type": "execute_result"
    }
   ],
   "source": [
    "# Compararea predictiilor cu valorile adevarate\n",
    "from sklearn.metrics import mean_absolute_error\n",
    "np.random.seed(9)\n",
    "mean_absolute_error(y_test, y_preds)"
   ]
  },
  {
   "cell_type": "markdown",
   "id": "e58d3b84",
   "metadata": {},
   "source": [
    "# 5. Evaluarea modelului"
   ]
  },
  {
   "cell_type": "markdown",
   "id": "42a4ec53",
   "metadata": {},
   "source": [
    "Evaluarea modelelor de regresie se realizeaza prin intemediul:\n",
    "* `R^2 (pronounced r-squared) or coefficient of determination` - COmpara predictiile modelului cue valoarea medie a valoarea medie a valorilor adevarate. Poate varia de la minus infinit (model foarte slab) pina la 1. De exemplu daca valoare presisa este egala cu valoarea a valorilor adevarate, R^2 va fi 0. Daca valoarea prezisa este perfecta atunci R^2 va fi 1.\n",
    "* `Mean absolute error (MAE)` - diferenta medie absoluta dintre valorile prezise si valorile adevarate. \n",
    "* `Mean squared error (MSE)` - diferenta medie patratica dintre valorile prezise si valorile adevarate. "
   ]
  },
  {
   "cell_type": "code",
   "execution_count": 23,
   "id": "0d846d22",
   "metadata": {},
   "outputs": [],
   "source": [
    "# Pregatirea datelor si relizarea predictiei\n",
    "np.random.seed(9)\n",
    "\n",
    "X = boston_df.drop(\"target\", axis=1)\n",
    "y = boston_df[\"target\"]\n",
    "\n",
    "X_train, X_test, y_train, y_test = train_test_split(X, y, test_size=0.2)\n",
    "\n",
    "rf = RandomForestRegressor()\n",
    "rf.fit(X_train, y_train);"
   ]
  },
  {
   "cell_type": "markdown",
   "id": "7426960b",
   "metadata": {},
   "source": [
    "### 5.1. Evaluarea modelului cu ajutorul R^2"
   ]
  },
  {
   "cell_type": "markdown",
   "id": "5bb96286",
   "metadata": {},
   "source": [
    "Mai multe despre parametrul R^2 se poate gasi pe adresele:\n",
    "\n",
    "https://www.youtube.com/watch?v=Q-TtIPF0fCU\n",
    "\n",
    "https://www.youtube.com/watch?v=2AQKmw14mHM&ab_channel=StatQuestwithJoshStarmerStatQuestwithJoshStarmer\n",
    "    "
   ]
  },
  {
   "cell_type": "markdown",
   "id": "ef3cd087",
   "metadata": {},
   "source": [
    "Parametrul R^2 este parametrul implicit atunci cand se apeleaza functia score() a unui model de regresie"
   ]
  },
  {
   "cell_type": "code",
   "execution_count": 26,
   "id": "1ce6b41a",
   "metadata": {},
   "outputs": [
    {
     "data": {
      "text/plain": [
       "0.8791753842083332"
      ]
     },
     "execution_count": 26,
     "metadata": {},
     "output_type": "execute_result"
    }
   ],
   "source": [
    "# Evaluarea cu functia score()\n",
    "np.random.seed(9)\n",
    "rf.score(X_test, y_test)"
   ]
  },
  {
   "cell_type": "markdown",
   "id": "e8e2a766",
   "metadata": {},
   "source": [
    "Pe langa functia score(), R^2 poate fi calculat si cu ajutorul functiei r2_score() din Scikit-Learn."
   ]
  },
  {
   "cell_type": "code",
   "execution_count": 27,
   "id": "671ef3d8",
   "metadata": {},
   "outputs": [],
   "source": [
    "# importul functiei r2_score\n",
    "from sklearn.metrics import r2_score"
   ]
  },
  {
   "cell_type": "code",
   "execution_count": 31,
   "id": "f595ce27",
   "metadata": {},
   "outputs": [
    {
     "data": {
      "text/plain": [
       "array([22.60980392, 22.60980392, 22.60980392, 22.60980392, 22.60980392,\n",
       "       22.60980392, 22.60980392, 22.60980392, 22.60980392, 22.60980392])"
      ]
     },
     "execution_count": 31,
     "metadata": {},
     "output_type": "execute_result"
    }
   ],
   "source": [
    "# Elaborarea unui array cu valoarea medie a valorilor adevarate\n",
    "y_test_mean = np.full(len(y_test), y_test.mean())\n",
    "y_test_mean[:10]"
   ]
  },
  {
   "cell_type": "code",
   "execution_count": 29,
   "id": "090505c7",
   "metadata": {},
   "outputs": [
    {
     "data": {
      "text/plain": [
       "0.0"
      ]
     },
     "execution_count": 29,
     "metadata": {},
     "output_type": "execute_result"
    }
   ],
   "source": [
    "# Determinarea r^2 dintre valorile de test adevarate si valoarea medie a valorilor adevarate\n",
    "r2_score(y_test, y_test_mean)"
   ]
  },
  {
   "cell_type": "code",
   "execution_count": 30,
   "id": "5caa42f8",
   "metadata": {},
   "outputs": [
    {
     "data": {
      "text/plain": [
       "1.0"
      ]
     },
     "execution_count": 30,
     "metadata": {},
     "output_type": "execute_result"
    }
   ],
   "source": [
    "# Determinarea r^2 dintre valorile de test adevarate si ele insusi\n",
    "r2_score(y_test, y_test)"
   ]
  },
  {
   "cell_type": "code",
   "execution_count": 34,
   "id": "0cf5d280",
   "metadata": {},
   "outputs": [
    {
     "data": {
      "text/plain": [
       "array([0, 0, 0, 0, 0, 0, 0, 0, 0, 0])"
      ]
     },
     "execution_count": 34,
     "metadata": {},
     "output_type": "execute_result"
    }
   ],
   "source": [
    "# Elaborarea unui array ce va contine doar valori nule\n",
    "y_test_mean_0 = np.full(len(y_test), 0)\n",
    "y_test_mean_0[:10]"
   ]
  },
  {
   "cell_type": "code",
   "execution_count": 35,
   "id": "9206bc6f",
   "metadata": {},
   "outputs": [
    {
     "data": {
      "text/plain": [
       "-5.052066192102209"
      ]
     },
     "execution_count": 35,
     "metadata": {},
     "output_type": "execute_result"
    }
   ],
   "source": [
    "# Determinarea r^2 dintre valorile de test adevarate si valoarea nula\n",
    "r2_score(y_test, y_test_mean_0)"
   ]
  },
  {
   "cell_type": "markdown",
   "id": "32a023c4",
   "metadata": {},
   "source": [
    "### 5.2. Evaluarea prin intermediul erorii medii absolute (MAE - Mean Absolute Erorr) "
   ]
  },
  {
   "cell_type": "code",
   "execution_count": 36,
   "id": "7b77dc19",
   "metadata": {},
   "outputs": [],
   "source": [
    "# importul functiei mean_absolute_error\n",
    "from sklearn.metrics import mean_absolute_error"
   ]
  },
  {
   "cell_type": "code",
   "execution_count": 37,
   "id": "206661ed",
   "metadata": {},
   "outputs": [],
   "source": [
    "# realizarea predictiei\n",
    "np.random.seed(9)\n",
    "y_preds = rf.predict(X_test)"
   ]
  },
  {
   "cell_type": "code",
   "execution_count": 38,
   "id": "7cd7f3db",
   "metadata": {},
   "outputs": [
    {
     "data": {
      "text/plain": [
       "2.4057941176470594"
      ]
     },
     "execution_count": 38,
     "metadata": {},
     "output_type": "execute_result"
    }
   ],
   "source": [
    "# determinarea erorii medii absolute\n",
    "mae = mean_absolute_error(y_test, y_preds)\n",
    "mae"
   ]
  },
  {
   "cell_type": "code",
   "execution_count": 44,
   "id": "c2610be7",
   "metadata": {},
   "outputs": [
    {
     "data": {
      "text/html": [
       "<div>\n",
       "<style scoped>\n",
       "    .dataframe tbody tr th:only-of-type {\n",
       "        vertical-align: middle;\n",
       "    }\n",
       "\n",
       "    .dataframe tbody tr th {\n",
       "        vertical-align: top;\n",
       "    }\n",
       "\n",
       "    .dataframe thead th {\n",
       "        text-align: right;\n",
       "    }\n",
       "</style>\n",
       "<table border=\"1\" class=\"dataframe\">\n",
       "  <thead>\n",
       "    <tr style=\"text-align: right;\">\n",
       "      <th></th>\n",
       "      <th>Valoarea adevarata</th>\n",
       "      <th>Valoarea prezisa</th>\n",
       "      <th>Diferenta</th>\n",
       "      <th>Difer_absolut</th>\n",
       "    </tr>\n",
       "  </thead>\n",
       "  <tbody>\n",
       "    <tr>\n",
       "      <th>464</th>\n",
       "      <td>21.4</td>\n",
       "      <td>21.800</td>\n",
       "      <td>0.400</td>\n",
       "      <td>0.400</td>\n",
       "    </tr>\n",
       "    <tr>\n",
       "      <th>419</th>\n",
       "      <td>8.4</td>\n",
       "      <td>13.931</td>\n",
       "      <td>5.531</td>\n",
       "      <td>5.531</td>\n",
       "    </tr>\n",
       "    <tr>\n",
       "      <th>277</th>\n",
       "      <td>33.1</td>\n",
       "      <td>29.985</td>\n",
       "      <td>-3.115</td>\n",
       "      <td>3.115</td>\n",
       "    </tr>\n",
       "    <tr>\n",
       "      <th>491</th>\n",
       "      <td>13.6</td>\n",
       "      <td>16.501</td>\n",
       "      <td>2.901</td>\n",
       "      <td>2.901</td>\n",
       "    </tr>\n",
       "    <tr>\n",
       "      <th>337</th>\n",
       "      <td>18.5</td>\n",
       "      <td>19.997</td>\n",
       "      <td>1.497</td>\n",
       "      <td>1.497</td>\n",
       "    </tr>\n",
       "  </tbody>\n",
       "</table>\n",
       "</div>"
      ],
      "text/plain": [
       "     Valoarea adevarata  Valoarea prezisa  Diferenta  Difer_absolut\n",
       "464                21.4            21.800      0.400          0.400\n",
       "419                 8.4            13.931      5.531          5.531\n",
       "277                33.1            29.985     -3.115          3.115\n",
       "491                13.6            16.501      2.901          2.901\n",
       "337                18.5            19.997      1.497          1.497"
      ]
     },
     "execution_count": 44,
     "metadata": {},
     "output_type": "execute_result"
    }
   ],
   "source": [
    "# elaborarea unui dataframe pentru analiza comparativa a valorilor prezise si cele adevarate\n",
    "df = pd.DataFrame(data={\"Valoarea adevarata\": y_test, \n",
    "                   \"Valoarea prezisa\": y_preds})\n",
    "df['Diferenta'] = df['Valoarea prezisa']-df['Valoarea adevarata']\n",
    "df['Difer_absolut'] = abs(df['Diferenta'])\n",
    "\n",
    "df.head()"
   ]
  },
  {
   "cell_type": "code",
   "execution_count": 50,
   "id": "aebe9866",
   "metadata": {},
   "outputs": [
    {
     "data": {
      "text/plain": [
       "2.4057941176470594"
      ]
     },
     "execution_count": 50,
     "metadata": {},
     "output_type": "execute_result"
    }
   ],
   "source": [
    "# Determinarea valori medii a coloanei \"Difer_absolut\"\n",
    "df['Difer_absolut'].mean()"
   ]
  },
  {
   "cell_type": "code",
   "execution_count": 46,
   "id": "d218cae3",
   "metadata": {},
   "outputs": [
    {
     "data": {
      "image/png": "[encoded data removed]",
      "text/plain": [
       "<Figure size 432x288 with 1 Axes>"
      ]
     },
     "metadata": {
      "needs_background": "light"
     },
     "output_type": "display_data"
    }
   ],
   "source": [
    "# Vizualizarea grafica a datelor din dataframe-ul df\n",
    "fig, ax = plt.subplots()\n",
    "x = np.arange(0, len(df), 1)\n",
    "ax.scatter(x, df[\"Valoarea adevarata\"], c='b', label=\"Valoarea adevarata\")\n",
    "ax.scatter(x, df[\"Valoarea prezisa\"], c='r', label=\"Valoarea prezisa\")\n",
    "ax.legend(loc=(1, 0.5));"
   ]
  },
  {
   "cell_type": "markdown",
   "id": "f12d3925",
   "metadata": {},
   "source": [
    "### 5.3. Evaluarea prin intermediul erorii medii patratice (MSE - Mean Squared Erorr) "
   ]
  },
  {
   "cell_type": "code",
   "execution_count": 48,
   "id": "a236a9ab",
   "metadata": {},
   "outputs": [],
   "source": [
    "# importul functiei mean_squared_error\n",
    "from sklearn.metrics import mean_squared_error"
   ]
  },
  {
   "cell_type": "code",
   "execution_count": 49,
   "id": "17d606da",
   "metadata": {},
   "outputs": [
    {
     "data": {
      "text/plain": [
       "12.225875892156862"
      ]
     },
     "execution_count": 49,
     "metadata": {},
     "output_type": "execute_result"
    }
   ],
   "source": [
    "# determinarea erorii medii patratice\n",
    "mae = mean_squared_error(y_test, y_preds)\n",
    "mae"
   ]
  },
  {
   "cell_type": "code",
   "execution_count": 57,
   "id": "3b4d45f2",
   "metadata": {},
   "outputs": [
    {
     "data": {
      "text/html": [
       "<div>\n",
       "<style scoped>\n",
       "    .dataframe tbody tr th:only-of-type {\n",
       "        vertical-align: middle;\n",
       "    }\n",
       "\n",
       "    .dataframe tbody tr th {\n",
       "        vertical-align: top;\n",
       "    }\n",
       "\n",
       "    .dataframe thead th {\n",
       "        text-align: right;\n",
       "    }\n",
       "</style>\n",
       "<table border=\"1\" class=\"dataframe\">\n",
       "  <thead>\n",
       "    <tr style=\"text-align: right;\">\n",
       "      <th></th>\n",
       "      <th>Valoarea adevarata</th>\n",
       "      <th>Valoarea prezisa</th>\n",
       "      <th>Diferenta</th>\n",
       "      <th>Difer_patrat</th>\n",
       "    </tr>\n",
       "  </thead>\n",
       "  <tbody>\n",
       "    <tr>\n",
       "      <th>464</th>\n",
       "      <td>21.4</td>\n",
       "      <td>21.800</td>\n",
       "      <td>0.400</td>\n",
       "      <td>0.160000</td>\n",
       "    </tr>\n",
       "    <tr>\n",
       "      <th>419</th>\n",
       "      <td>8.4</td>\n",
       "      <td>13.931</td>\n",
       "      <td>5.531</td>\n",
       "      <td>30.591961</td>\n",
       "    </tr>\n",
       "    <tr>\n",
       "      <th>277</th>\n",
       "      <td>33.1</td>\n",
       "      <td>29.985</td>\n",
       "      <td>-3.115</td>\n",
       "      <td>9.703225</td>\n",
       "    </tr>\n",
       "    <tr>\n",
       "      <th>491</th>\n",
       "      <td>13.6</td>\n",
       "      <td>16.501</td>\n",
       "      <td>2.901</td>\n",
       "      <td>8.415801</td>\n",
       "    </tr>\n",
       "    <tr>\n",
       "      <th>337</th>\n",
       "      <td>18.5</td>\n",
       "      <td>19.997</td>\n",
       "      <td>1.497</td>\n",
       "      <td>2.241009</td>\n",
       "    </tr>\n",
       "  </tbody>\n",
       "</table>\n",
       "</div>"
      ],
      "text/plain": [
       "     Valoarea adevarata  Valoarea prezisa  Diferenta  Difer_patrat\n",
       "464                21.4            21.800      0.400      0.160000\n",
       "419                 8.4            13.931      5.531     30.591961\n",
       "277                33.1            29.985     -3.115      9.703225\n",
       "491                13.6            16.501      2.901      8.415801\n",
       "337                18.5            19.997      1.497      2.241009"
      ]
     },
     "execution_count": 57,
     "metadata": {},
     "output_type": "execute_result"
    }
   ],
   "source": [
    "# elaborarea unui dataframe pentru analiza comparativa a valorilor prezise si cele adevarate\n",
    "df2 = pd.DataFrame(data={\"Valoarea adevarata\": y_test, \n",
    "                   \"Valoarea prezisa\": y_preds})\n",
    "df2['Diferenta'] = df2['Valoarea prezisa']-df2['Valoarea adevarata']\n",
    "df2['Difer_patrat'] = df2['Diferenta']*df2['Diferenta']\n",
    "\n",
    "df2.head()"
   ]
  },
  {
   "cell_type": "code",
   "execution_count": 58,
   "id": "1e2670cd",
   "metadata": {},
   "outputs": [
    {
     "data": {
      "text/plain": [
       "12.225875892156862"
      ]
     },
     "execution_count": 58,
     "metadata": {},
     "output_type": "execute_result"
    }
   ],
   "source": [
    "# Determinarea valori medii a coloanei \"Difer_patrat\"\n",
    "df2['Difer_patrat'].mean()"
   ]
  },
  {
   "cell_type": "markdown",
   "id": "3f4d0d02",
   "metadata": {},
   "source": [
    "### 5.4. Evaluarea modelului modificand parametrul `scoring` in `cross-validation`"
   ]
  },
  {
   "cell_type": "code",
   "execution_count": 59,
   "id": "56fe7dad",
   "metadata": {},
   "outputs": [],
   "source": [
    "# importul modulului cross-validation\n",
    "from sklearn.model_selection import cross_val_score"
   ]
  },
  {
   "cell_type": "code",
   "execution_count": 61,
   "id": "be9e9618",
   "metadata": {},
   "outputs": [],
   "source": [
    "# Pregatirea datelor si relizarea predictiei\n",
    "np.random.seed(9)\n",
    "\n",
    "X = boston_df.drop(\"target\", axis=1)\n",
    "y = boston_df[\"target\"]\n",
    "\n",
    "X_train, X_test, y_train, y_test = train_test_split(X, y, test_size=0.2)\n",
    "\n",
    "rf = RandomForestRegressor()\n",
    "rf.fit(X_train, y_train);"
   ]
  },
  {
   "cell_type": "markdown",
   "id": "19d87d43",
   "metadata": {},
   "source": [
    "#### a. Parametrul implicit `scoring=None`"
   ]
  },
  {
   "cell_type": "code",
   "execution_count": 64,
   "id": "bde5630c",
   "metadata": {},
   "outputs": [
    {
     "data": {
      "text/plain": [
       "array([0.76588712, 0.83381585, 0.73645847, 0.47554191, 0.3188976 ])"
      ]
     },
     "execution_count": 64,
     "metadata": {},
     "output_type": "execute_result"
    }
   ],
   "source": [
    "# Utilizarea cross-validation cu parametrul scoring implicit (scoring=None)\n",
    "\n",
    "np.random.seed(9)\n",
    "cv_None=cross_val_score(rf, X, y, cv=5, scoring=None)\n",
    "cv_None"
   ]
  },
  {
   "cell_type": "code",
   "execution_count": 66,
   "id": "01dee994",
   "metadata": {},
   "outputs": [
    {
     "name": "stdout",
     "output_type": "stream",
     "text": [
      "Valoarea medie a rezultatelor cross_validation este: 0.63\n"
     ]
    }
   ],
   "source": [
    "# afisarea valorii medii\n",
    "print(f'Valoarea medie a rezultatelor cross_validation este: {np.mean(cv_None):.2f}')"
   ]
  },
  {
   "cell_type": "markdown",
   "id": "a4411709",
   "metadata": {},
   "source": [
    "#### b. Parametrul `scoring=r2`"
   ]
  },
  {
   "cell_type": "code",
   "execution_count": 67,
   "id": "84943408",
   "metadata": {},
   "outputs": [
    {
     "data": {
      "text/plain": [
       "array([0.76588712, 0.83381585, 0.73645847, 0.47554191, 0.3188976 ])"
      ]
     },
     "execution_count": 67,
     "metadata": {},
     "output_type": "execute_result"
    }
   ],
   "source": [
    "# Utilizarea cross-validation cu parametrul scoring='r2'\n",
    "\n",
    "np.random.seed(9)\n",
    "cv_r2=cross_val_score(rf, X, y, cv=5, scoring=\"r2\")\n",
    "cv_r2"
   ]
  },
  {
   "cell_type": "code",
   "execution_count": 68,
   "id": "80c6a171",
   "metadata": {},
   "outputs": [
    {
     "name": "stdout",
     "output_type": "stream",
     "text": [
      "Valoarea medie a r2 in cross_validation este: 0.63\n"
     ]
    }
   ],
   "source": [
    "# afisarea valorii medii\n",
    "print(f'Valoarea medie a r2 in cross_validation este: {np.mean(cv_r2):.2f}')"
   ]
  },
  {
   "cell_type": "markdown",
   "id": "5c132bfa",
   "metadata": {},
   "source": [
    "Rezultatele in cazul scoring=None si scoring='r2' sunt acelesi adica paramatrul implicit in cazul cross-validation pentru modelele de regresie este r2"
   ]
  },
  {
   "cell_type": "markdown",
   "id": "dfa4a239",
   "metadata": {},
   "source": [
    "#### c. Parametrul `scoring=neg_mean_absolute_error`"
   ]
  },
  {
   "cell_type": "code",
   "execution_count": 69,
   "id": "f1a5579a",
   "metadata": {},
   "outputs": [
    {
     "data": {
      "text/plain": [
       "array([-2.15636275, -2.6670198 , -3.46341584, -3.75931683, -3.06877228])"
      ]
     },
     "execution_count": 69,
     "metadata": {},
     "output_type": "execute_result"
    }
   ],
   "source": [
    "# Utilizarea cross-validation cu parametrul scoring='neg_mean_absolute_error'\n",
    "\n",
    "np.random.seed(9)\n",
    "cv_mae=cross_val_score(rf, X, y, cv=5, scoring=\"neg_mean_absolute_error\")\n",
    "cv_mae"
   ]
  },
  {
   "cell_type": "code",
   "execution_count": 70,
   "id": "dd4afc0c",
   "metadata": {},
   "outputs": [
    {
     "name": "stdout",
     "output_type": "stream",
     "text": [
      "Valoarea medie a mae in cross_validation este: -3.02\n"
     ]
    }
   ],
   "source": [
    "# afisarea valorii medii\n",
    "print(f'Valoarea medie a mae in cross_validation este: {np.mean(cv_mae):.2f}')"
   ]
  },
  {
   "cell_type": "markdown",
   "id": "5d90200b",
   "metadata": {},
   "source": [
    "De ce negative : https://scikit-learn.org/stable/modules/model_evaluation.html#common-cases-predefined-values"
   ]
  },
  {
   "cell_type": "markdown",
   "id": "1243dffb",
   "metadata": {},
   "source": [
    "#### d. Parametrul `scoring=neg_mean_squared_error`"
   ]
  },
  {
   "cell_type": "code",
   "execution_count": 71,
   "id": "a5c81a26",
   "metadata": {},
   "outputs": [
    {
     "data": {
      "text/plain": [
       "array([ -8.08513397, -15.12886585, -21.10630395, -46.00119037,\n",
       "       -18.10936644])"
      ]
     },
     "execution_count": 71,
     "metadata": {},
     "output_type": "execute_result"
    }
   ],
   "source": [
    "# Utilizarea cross-validation cu parametrul scoring='neg_mean_squared_error'\n",
    "\n",
    "np.random.seed(9)\n",
    "cv_mse=cross_val_score(rf, X, y, cv=5, scoring=\"neg_mean_squared_error\")\n",
    "cv_mse"
   ]
  },
  {
   "cell_type": "code",
   "execution_count": 72,
   "id": "4ca489b0",
   "metadata": {},
   "outputs": [
    {
     "name": "stdout",
     "output_type": "stream",
     "text": [
      "Valoarea medie a mse in cross_validation este: -21.69\n"
     ]
    }
   ],
   "source": [
    "# afisarea valorii medii\n",
    "print(f'Valoarea medie a mse in cross_validation este: {np.mean(cv_mse):.2f}')"
   ]
  },
  {
   "cell_type": "markdown",
   "id": "adb99436",
   "metadata": {},
   "source": [
    "### 5.5. Evaluarea modelului utilizand functiile de evaluare Scikit-Learn¶\n"
   ]
  },
  {
   "cell_type": "code",
   "execution_count": 73,
   "id": "afeb81bf",
   "metadata": {},
   "outputs": [],
   "source": [
    "# importul functiilor de evaluare\n",
    "from sklearn.metrics import r2_score, mean_absolute_error, mean_squared_error"
   ]
  },
  {
   "cell_type": "code",
   "execution_count": 74,
   "id": "55231163",
   "metadata": {},
   "outputs": [],
   "source": [
    "# Pregatirea datelor si relizarea predictiei\n",
    "np.random.seed(9)\n",
    "\n",
    "X = boston_df.drop(\"target\", axis=1)\n",
    "y = boston_df[\"target\"]\n",
    "\n",
    "X_train, X_test, y_train, y_test = train_test_split(X, y, test_size=0.2)\n",
    "\n",
    "rf = RandomForestRegressor()\n",
    "rf.fit(X_train, y_train);"
   ]
  },
  {
   "cell_type": "code",
   "execution_count": 75,
   "id": "05d8dbf5",
   "metadata": {},
   "outputs": [],
   "source": [
    "# Realizarea predictiei\n",
    "np.random.seed(9)\n",
    "y_preds = model.predict(X_test)"
   ]
  },
  {
   "cell_type": "code",
   "execution_count": 77,
   "id": "23a30c67",
   "metadata": {},
   "outputs": [
    {
     "name": "stdout",
     "output_type": "stream",
     "text": [
      "Rezultatele evaluarii modelului de regresie pe setul de test cu diferite functii::\n",
      "R^2: 0.88\n",
      "MAE: 2.41\n",
      "MSE: 12.23\n"
     ]
    }
   ],
   "source": [
    "# Evaluarea modelului\n",
    "print(\"Rezultatele evaluarii modelului de regresie pe setul de test cu diferite functii::\")\n",
    "print(f\"R^2: {r2_score(y_test, y_preds):.2f}\")\n",
    "print(f\"MAE: {mean_absolute_error(y_test, y_preds):.2f}\")\n",
    "print(f\"MSE: {mean_squared_error(y_test, y_preds):.2f}\")"
   ]
  },
  {
   "cell_type": "code",
   "execution_count": null,
   "id": "7edc208e",
   "metadata": {},
   "outputs": [],
   "source": []
  }
 ],
 "metadata": {
  "kernelspec": {
   "display_name": "Python 3",
   "language": "python",
   "name": "python3"
  },
  "language_info": {
   "codemirror_mode": {
    "name": "ipython",
    "version": 3
   },
   "file_extension": ".py",
   "mimetype": "text/x-python",
   "name": "python",
   "nbconvert_exporter": "python",
   "pygments_lexer": "ipython3",
   "version": "3.9.4"
  }
 },
 "nbformat": 4,
 "nbformat_minor": 5
}
